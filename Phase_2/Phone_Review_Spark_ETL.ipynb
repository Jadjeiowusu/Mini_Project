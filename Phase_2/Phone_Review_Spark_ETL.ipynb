{
  "nbformat": 4,
  "nbformat_minor": 0,
  "metadata": {
    "colab": {
      "provenance": [],
      "collapsed_sections": []
    },
    "kernelspec": {
      "name": "python3",
      "display_name": "Python 3"
    },
    "language_info": {
      "name": "python"
    }
  },
  "cells": [
    {
      "cell_type": "code",
      "source": [
        "!pip install gdown"
      ],
      "metadata": {
        "colab": {
          "base_uri": "https://localhost:8080/"
        },
        "id": "V-tgxck_xzyE",
        "outputId": "9e85ef74-93d7-465c-8aec-015eacf606b7"
      },
      "execution_count": 9,
      "outputs": [
        {
          "output_type": "stream",
          "name": "stdout",
          "text": [
            "Looking in indexes: https://pypi.org/simple, https://us-python.pkg.dev/colab-wheels/public/simple/\n",
            "Requirement already satisfied: gdown in /usr/local/lib/python3.7/dist-packages (4.4.0)\n",
            "Requirement already satisfied: filelock in /usr/local/lib/python3.7/dist-packages (from gdown) (3.8.0)\n",
            "Requirement already satisfied: six in /usr/local/lib/python3.7/dist-packages (from gdown) (1.15.0)\n",
            "Requirement already satisfied: tqdm in /usr/local/lib/python3.7/dist-packages (from gdown) (4.64.1)\n",
            "Requirement already satisfied: requests[socks] in /usr/local/lib/python3.7/dist-packages (from gdown) (2.23.0)\n",
            "Requirement already satisfied: beautifulsoup4 in /usr/local/lib/python3.7/dist-packages (from gdown) (4.6.3)\n",
            "Requirement already satisfied: chardet<4,>=3.0.2 in /usr/local/lib/python3.7/dist-packages (from requests[socks]->gdown) (3.0.4)\n",
            "Requirement already satisfied: certifi>=2017.4.17 in /usr/local/lib/python3.7/dist-packages (from requests[socks]->gdown) (2022.6.15)\n",
            "Requirement already satisfied: idna<3,>=2.5 in /usr/local/lib/python3.7/dist-packages (from requests[socks]->gdown) (2.10)\n",
            "Requirement already satisfied: urllib3!=1.25.0,!=1.25.1,<1.26,>=1.21.1 in /usr/local/lib/python3.7/dist-packages (from requests[socks]->gdown) (1.24.3)\n",
            "Requirement already satisfied: PySocks!=1.5.7,>=1.5.6 in /usr/local/lib/python3.7/dist-packages (from requests[socks]->gdown) (1.7.1)\n"
          ]
        }
      ]
    },
    {
      "cell_type": "code",
      "source": [
        "!gdown --id 1t6fwPgO5ml89zf4k5btrwRj9r83WzlcS"
      ],
      "metadata": {
        "colab": {
          "base_uri": "https://localhost:8080/"
        },
        "id": "rap9KnuKx258",
        "outputId": "241dc395-9e99-40f7-8f4f-0899cd56aaf6"
      },
      "execution_count": 10,
      "outputs": [
        {
          "output_type": "stream",
          "name": "stdout",
          "text": [
            "/usr/local/lib/python3.7/dist-packages/gdown/cli.py:131: FutureWarning: Option `--id` was deprecated in version 4.3.1 and will be removed in 5.0. You don't need to pass it anymore to use a file ID.\n",
            "  category=FutureWarning,\n",
            "Downloading...\n",
            "From: https://drive.google.com/uc?id=1t6fwPgO5ml89zf4k5btrwRj9r83WzlcS\n",
            "To: /content/combined-csv-files.csv\n",
            "100% 483M/483M [00:10<00:00, 47.0MB/s]\n"
          ]
        }
      ]
    },
    {
      "cell_type": "code",
      "source": [
        "# Activate Spark in our Colab notebook.\n",
        "import os\n",
        "# Find the latest version of spark 3.0  from http://www.apache.org/dist/spark/ and enter as the spark version\n",
        "# For example: 'spark-3.2.2'\n",
        "spark_version = 'spark-3.2.2'\n",
        "# spark_version = 'spark-3.<enter version>'\n",
        "os.environ['SPARK_VERSION']=spark_version\n",
        "\n",
        "# Install Spark and Java\n",
        "!apt-get update\n",
        "!apt-get install openjdk-11-jdk-headless -qq > /dev/null\n",
        "!wget -q http://www.apache.org/dist/spark/$SPARK_VERSION/$SPARK_VERSION-bin-hadoop3.2.tgz\n",
        "!tar xf $SPARK_VERSION-bin-hadoop3.2.tgz\n",
        "!pip install -q findspark\n",
        "\n",
        "# Set Environment Variables\n",
        "os.environ[\"JAVA_HOME\"] = \"/usr/lib/jvm/java-11-openjdk-amd64\"\n",
        "os.environ[\"SPARK_HOME\"] = f\"/content/{spark_version}-bin-hadoop3.2\"\n",
        "\n",
        "# Start a SparkSession\n",
        "import findspark\n",
        "findspark.init()"
      ],
      "metadata": {
        "colab": {
          "base_uri": "https://localhost:8080/"
        },
        "id": "4M5Q5QJr5ppm",
        "outputId": "c1676937-c3e9-4872-da8b-117bb4a9a0de"
      },
      "execution_count": 5,
      "outputs": [
        {
          "output_type": "stream",
          "name": "stdout",
          "text": [
            "\r0% [Working]\r            \rGet:1 http://security.ubuntu.com/ubuntu bionic-security InRelease [88.7 kB]\n",
            "\r0% [Waiting for headers] [1 InRelease 14.2 kB/88.7 kB 16%] [Connected to cloud.\r                                                                               \rHit:2 http://archive.ubuntu.com/ubuntu bionic InRelease\n",
            "\r0% [Waiting for headers] [1 InRelease 88.7 kB/88.7 kB 100%] [Connected to cloud\r                                                                               \rGet:3 http://archive.ubuntu.com/ubuntu bionic-updates InRelease [88.7 kB]\n",
            "\r0% [3 InRelease 27.2 kB/88.7 kB 31%] [Connected to cloud.r-project.org (108.138\r0% [2 InRelease gpgv 242 kB] [3 InRelease 27.2 kB/88.7 kB 31%] [Connected to cl\r                                                                               \rGet:4 https://cloud.r-project.org/bin/linux/ubuntu bionic-cran40/ InRelease [3,626 B]\n",
            "\r0% [2 InRelease gpgv 242 kB] [3 InRelease 67.8 kB/88.7 kB 76%] [Waiting for hea\r0% [2 InRelease gpgv 242 kB] [Waiting for headers] [Waiting for headers] [Conne\r                                                                               \rGet:5 http://archive.ubuntu.com/ubuntu bionic-backports InRelease [83.3 kB]\n",
            "\r0% [2 InRelease gpgv 242 kB] [5 InRelease 8,396 B/83.3 kB 10%] [Waiting for hea\r                                                                               \r0% [2 InRelease gpgv 242 kB] [Waiting for headers] [Waiting for headers]\r                                                                        \rGet:6 http://ppa.launchpad.net/c2d4u.team/c2d4u4.0+/ubuntu bionic InRelease [15.9 kB]\n",
            "Ign:7 https://developer.download.nvidia.com/compute/machine-learning/repos/ubuntu1804/x86_64  InRelease\n",
            "Get:8 https://developer.download.nvidia.com/compute/cuda/repos/ubuntu1804/x86_64  InRelease [1,581 B]\n",
            "Hit:9 https://developer.download.nvidia.com/compute/machine-learning/repos/ubuntu1804/x86_64  Release\n",
            "Hit:10 http://ppa.launchpad.net/cran/libgit2/ubuntu bionic InRelease\n",
            "Hit:11 http://ppa.launchpad.net/deadsnakes/ppa/ubuntu bionic InRelease\n",
            "Get:12 http://security.ubuntu.com/ubuntu bionic-security/universe amd64 Packages [1,546 kB]\n",
            "Get:13 http://ppa.launchpad.net/graphics-drivers/ppa/ubuntu bionic InRelease [21.3 kB]\n",
            "Get:14 http://security.ubuntu.com/ubuntu bionic-security/main amd64 Packages [2,992 kB]\n",
            "Get:15 http://security.ubuntu.com/ubuntu bionic-security/restricted amd64 Packages [1,163 kB]\n",
            "Get:16 http://archive.ubuntu.com/ubuntu bionic-updates/universe amd64 Packages [2,324 kB]\n",
            "Get:17 http://archive.ubuntu.com/ubuntu bionic-updates/restricted amd64 Packages [1,204 kB]\n",
            "Get:18 http://archive.ubuntu.com/ubuntu bionic-updates/main amd64 Packages [3,425 kB]\n",
            "Get:19 http://ppa.launchpad.net/c2d4u.team/c2d4u4.0+/ubuntu bionic/main Sources [2,163 kB]\n",
            "Get:20 https://developer.download.nvidia.com/compute/cuda/repos/ubuntu1804/x86_64  Packages [948 kB]\n",
            "Get:22 http://ppa.launchpad.net/c2d4u.team/c2d4u4.0+/ubuntu bionic/main amd64 Packages [1,108 kB]\n",
            "Get:23 http://ppa.launchpad.net/graphics-drivers/ppa/ubuntu bionic/main amd64 Packages [48.3 kB]\n",
            "Fetched 17.2 MB in 4s (4,583 kB/s)\n",
            "Reading package lists... Done\n"
          ]
        }
      ]
    },
    {
      "cell_type": "code",
      "source": [
        "# Import packages\n",
        "!pip install pyspark\n",
        "from pyspark.sql import SparkSession\n",
        "import time\n",
        "\n",
        "# Create a SparkSession\n",
        "spark=SparkSession.builder.appName(\"SparkSQL\").getOrCreate()"
      ],
      "metadata": {
        "colab": {
          "base_uri": "https://localhost:8080/"
        },
        "id": "AbKjAOhH7CnW",
        "outputId": "11557720-7884-4c96-8069-3bbb69f6cba0"
      },
      "execution_count": 6,
      "outputs": [
        {
          "output_type": "stream",
          "name": "stdout",
          "text": [
            "Looking in indexes: https://pypi.org/simple, https://us-python.pkg.dev/colab-wheels/public/simple/\n",
            "Collecting pyspark\n",
            "  Downloading pyspark-3.3.0.tar.gz (281.3 MB)\n",
            "\u001b[K     |████████████████████████████████| 281.3 MB 38 kB/s \n",
            "\u001b[?25hCollecting py4j==0.10.9.5\n",
            "  Downloading py4j-0.10.9.5-py2.py3-none-any.whl (199 kB)\n",
            "\u001b[K     |████████████████████████████████| 199 kB 61.5 MB/s \n",
            "\u001b[?25hBuilding wheels for collected packages: pyspark\n",
            "  Building wheel for pyspark (setup.py) ... \u001b[?25l\u001b[?25hdone\n",
            "  Created wheel for pyspark: filename=pyspark-3.3.0-py2.py3-none-any.whl size=281764026 sha256=b5ed442cfa16fd991b8be308c30ec4a647278297332af476cd87e51900fddf60\n",
            "  Stored in directory: /root/.cache/pip/wheels/7a/8e/1b/f73a52650d2e5f337708d9f6a1750d451a7349a867f928b885\n",
            "Successfully built pyspark\n",
            "Installing collected packages: py4j, pyspark\n",
            "Successfully installed py4j-0.10.9.5 pyspark-3.3.0\n"
          ]
        }
      ]
    },
    {
      "cell_type": "code",
      "source": [
        "from pyspark import SparkFiles\n",
        "df = spark.read.csv(SparkFiles.get('/content/combined-csv-files.csv'),sep=\",\", header=True,encoding='ISO-8859-1')\n",
        "df.show(10)\n",
        "print((df.count(),len(df.columns)))"
      ],
      "metadata": {
        "id": "Ko2QYIEl5zh3",
        "colab": {
          "base_uri": "https://localhost:8080/"
        },
        "outputId": "432f5831-a77b-4295-8d36-b37f4ee1deb7"
      },
      "execution_count": 11,
      "outputs": [
        {
          "output_type": "stream",
          "name": "stdout",
          "text": [
            "+--------------------+---------+----+-------+----------------+-------------------+-----+---------+--------------------+--------------------+--------------------+\n",
            "|           phone_url|     date|lang|country|          source|             domain|score|score_max|             extract|              author|             product|\n",
            "+--------------------+---------+----+-------+----------------+-------------------+-----+---------+--------------------+--------------------+--------------------+\n",
            "|/cellphones/samsu...| 5/2/2017|  en|     us|Verizon Wireless|verizonwireless.com|   10|       10|As a diehard Sams...|          CarolAnn35|   Samsung Galaxy S8|\n",
            "|/cellphones/samsu...|4/28/2017|  en|     us|     Phone Arena|     phonearena.com|   10|       10|Love the phone. t...|           james0923|   Samsung Galaxy S8|\n",
            "|/cellphones/samsu...| 5/4/2017|  en|     us|          Amazon|         amazon.com|    6|       10|Adequate feel. Ni...|            R. Craig|\"Samsung Galaxy S...|\n",
            "|/cellphones/samsu...| 5/2/2017|  en|     us|         Samsung|        samsung.com|  9.2|       10|Never disappointe...|         Buster2020 |Samsung Galaxy S8...|\n",
            "|/cellphones/samsu...|5/11/2017|  en|     us|Verizon Wireless|verizonwireless.com|    4|       10|I've now found th...|          S Ate Mine|   Samsung Galaxy S8|\n",
            "|/cellphones/samsu...|5/10/2017|  en|     us|Verizon Wireless|verizonwireless.com|   10|       10|I am the type of ...|               BDB76|   Samsung Galaxy S8|\n",
            "|/cellphones/samsu...|5/10/2017|  en|     us|Verizon Wireless|verizonwireless.com|    4|       10|The way this Sams...|            KLC30306|   Samsung Galaxy S8|\n",
            "|/cellphones/samsu...|5/10/2017|  en|     us|Verizon Wireless|verizonwireless.com|    6|       10|I bought this pho...|                Mnhy|   Samsung Galaxy S8|\n",
            "|/cellphones/samsu...|5/10/2017|  en|     us|Verizon Wireless|verizonwireless.com|    6|       10|It is an extremel...|             Mr Alan|   Samsung Galaxy S8|\n",
            "|/cellphones/samsu...|5/10/2017|  en|     us|Verizon Wireless|verizonwireless.com|    8|       10|\"Great phone with...| it just looks bi...| takes amazing pi...|\n",
            "+--------------------+---------+----+-------+----------------+-------------------+-----+---------+--------------------+--------------------+--------------------+\n",
            "only showing top 10 rows\n",
            "\n",
            "(1415138, 11)\n"
          ]
        }
      ]
    },
    {
      "cell_type": "code",
      "source": [
        "df.printSchema() "
      ],
      "metadata": {
        "colab": {
          "base_uri": "https://localhost:8080/"
        },
        "id": "SwhF0nZPdaQz",
        "outputId": "d6dcc9e1-87f7-4a51-9cc6-bc8826f633f2"
      },
      "execution_count": null,
      "outputs": [
        {
          "output_type": "stream",
          "name": "stdout",
          "text": [
            "root\n",
            " |-- phone_url: string (nullable = true)\n",
            " |-- date: string (nullable = true)\n",
            " |-- lang: string (nullable = true)\n",
            " |-- country: string (nullable = true)\n",
            " |-- source: string (nullable = true)\n",
            " |-- domain: string (nullable = true)\n",
            " |-- score: string (nullable = true)\n",
            " |-- score_max: string (nullable = true)\n",
            " |-- extract: string (nullable = true)\n",
            " |-- author: string (nullable = true)\n",
            " |-- product: string (nullable = true)\n",
            "\n"
          ]
        }
      ]
    },
    {
      "cell_type": "code",
      "source": [
        "df = df.withColumn(\"score\", df.score.cast('float'))\n",
        "#df = df.withColumn('date', to_date(df.date,'MM-dd-yyyy'))\n",
        "df.printSchema() "
      ],
      "metadata": {
        "colab": {
          "base_uri": "https://localhost:8080/"
        },
        "id": "1-NNTDqudP2C",
        "outputId": "6cefbe59-8445-454a-be29-80e7d5c2fa15"
      },
      "execution_count": 15,
      "outputs": [
        {
          "output_type": "stream",
          "name": "stdout",
          "text": [
            "root\n",
            " |-- phone_url: string (nullable = true)\n",
            " |-- date: string (nullable = true)\n",
            " |-- lang: string (nullable = true)\n",
            " |-- country: string (nullable = true)\n",
            " |-- source: string (nullable = true)\n",
            " |-- domain: string (nullable = true)\n",
            " |-- score: float (nullable = true)\n",
            " |-- score_max: string (nullable = true)\n",
            " |-- extract: string (nullable = true)\n",
            " |-- author: string (nullable = true)\n",
            " |-- product: string (nullable = true)\n",
            "\n"
          ]
        }
      ]
    },
    {
      "cell_type": "code",
      "source": [
        "df = df.drop('extract', 'score_max') # dropping the colomns that we dont need\n",
        "df = df.na.fill(\"anonymous\",[\"author\"]) # Filling null in author with anonymous\n",
        "df = df.dropna(how = 'any') # Drop any null row\n",
        "df.show()\n",
        "print((df.count(),len(df.columns)))"
      ],
      "metadata": {
        "colab": {
          "base_uri": "https://localhost:8080/"
        },
        "id": "bUzfXl4zRlzB",
        "outputId": "1321dfa6-7c9b-4ef8-c09c-b6448a4353ff"
      },
      "execution_count": 20,
      "outputs": [
        {
          "output_type": "stream",
          "name": "stdout",
          "text": [
            "+--------------------+---------+----+-------+----------------+-------------------+-----+--------------------+--------------------+\n",
            "|           phone_url|     date|lang|country|          source|             domain|score|              author|             product|\n",
            "+--------------------+---------+----+-------+----------------+-------------------+-----+--------------------+--------------------+\n",
            "|/cellphones/samsu...| 5/2/2017|  en|     us|Verizon Wireless|verizonwireless.com|   10|          CarolAnn35|   Samsung Galaxy S8|\n",
            "|/cellphones/samsu...|4/28/2017|  en|     us|     Phone Arena|     phonearena.com|   10|           james0923|   Samsung Galaxy S8|\n",
            "|/cellphones/samsu...| 5/4/2017|  en|     us|          Amazon|         amazon.com|    6|            R. Craig|\"Samsung Galaxy S...|\n",
            "|/cellphones/samsu...| 5/2/2017|  en|     us|         Samsung|        samsung.com|  9.2|         Buster2020 |Samsung Galaxy S8...|\n",
            "|/cellphones/samsu...|5/11/2017|  en|     us|Verizon Wireless|verizonwireless.com|    4|          S Ate Mine|   Samsung Galaxy S8|\n",
            "|/cellphones/samsu...|5/10/2017|  en|     us|Verizon Wireless|verizonwireless.com|   10|               BDB76|   Samsung Galaxy S8|\n",
            "|/cellphones/samsu...|5/10/2017|  en|     us|Verizon Wireless|verizonwireless.com|    4|            KLC30306|   Samsung Galaxy S8|\n",
            "|/cellphones/samsu...|5/10/2017|  en|     us|Verizon Wireless|verizonwireless.com|    6|                Mnhy|   Samsung Galaxy S8|\n",
            "|/cellphones/samsu...|5/10/2017|  en|     us|Verizon Wireless|verizonwireless.com|    6|             Mr Alan|   Samsung Galaxy S8|\n",
            "|/cellphones/samsu...|5/10/2017|  en|     us|Verizon Wireless|verizonwireless.com|    8| it just looks bi...| takes amazing pi...|\n",
            "|/cellphones/samsu...| 5/8/2017|  en|     gb|            Very|         very.co.uk|   10|           Settoloki|Samsung Galaxy S8...|\n",
            "|/cellphones/samsu...| 5/8/2017|  en|     gb|            Very|         very.co.uk|   10|              Karren|Samsung Galaxy S8...|\n",
            "|/cellphones/samsu...| 5/8/2017|  en|     us|Verizon Wireless|verizonwireless.com|   10|            zenkitty|   Samsung Galaxy S8|\n",
            "|/cellphones/samsu...| 5/8/2017|  en|     us|Verizon Wireless|verizonwireless.com|    6|       AT and T wins|   Samsung Galaxy S8|\n",
            "|/cellphones/samsu...| 5/8/2017|  en|     us|Verizon Wireless|verizonwireless.com|   10|              Dwakal|   Samsung Galaxy S8|\n",
            "|/cellphones/samsu...| 5/8/2017|  en|     us|            CNET|   reviews.cnet.com|   10|             fflinty|Samsung Galaxy S8...|\n",
            "|/cellphones/samsu...| 5/7/2017|  en|     us|   Wireless AT&T|            att.com|    8|           Desiree42|   Samsung Galaxy S8|\n",
            "|/cellphones/samsu...| 5/7/2017|  en|     us|   Wireless AT&T|            att.com|   10|           SassyRose|   Samsung Galaxy S8|\n",
            "|/cellphones/samsu...| 5/7/2017|  en|     us|   Wireless AT&T|            att.com|   10|              Robhig|   Samsung Galaxy S8|\n",
            "|/cellphones/samsu...| 5/7/2017|  en|     us|   Wireless AT&T|            att.com|    8|              JPinCJ|   Samsung Galaxy S8|\n",
            "+--------------------+---------+----+-------+----------------+-------------------+-----+--------------------+--------------------+\n",
            "only showing top 20 rows\n",
            "\n",
            "(1350873, 9)\n"
          ]
        }
      ]
    },
    {
      "cell_type": "code",
      "source": [
        "from pyspark.sql.functions import udf\n",
        "def ascii_ignore(i):\n",
        "  return i.encode('ascii','ignore').decode('ascii')\n",
        "\n",
        "ascii_udf = udf(ascii_ignore)\n",
        "df = df.withColumn(\"source\",ascii_udf(\"source\"))\n",
        "df = df.withColumn(\"author\",ascii_udf(\"author\"))\n",
        "phones_df = df.withColumn(\"product\",ascii_udf(\"product\"))\n",
        "phones_df.show()\n",
        "print((phones_df.count(),len(phones_df.columns)))"
      ],
      "metadata": {
        "colab": {
          "base_uri": "https://localhost:8080/"
        },
        "id": "BkfVSp8_UsS1",
        "outputId": "849171d2-0377-470c-8fcb-2d398c016908"
      },
      "execution_count": 21,
      "outputs": [
        {
          "output_type": "stream",
          "name": "stdout",
          "text": [
            "+--------------------+---------+----+-------+----------------+-------------------+-----+--------------------+--------------------+\n",
            "|           phone_url|     date|lang|country|          source|             domain|score|              author|             product|\n",
            "+--------------------+---------+----+-------+----------------+-------------------+-----+--------------------+--------------------+\n",
            "|/cellphones/samsu...| 5/2/2017|  en|     us|Verizon Wireless|verizonwireless.com|   10|          CarolAnn35|   Samsung Galaxy S8|\n",
            "|/cellphones/samsu...|4/28/2017|  en|     us|     Phone Arena|     phonearena.com|   10|           james0923|   Samsung Galaxy S8|\n",
            "|/cellphones/samsu...| 5/4/2017|  en|     us|          Amazon|         amazon.com|    6|            R. Craig|\"Samsung Galaxy S...|\n",
            "|/cellphones/samsu...| 5/2/2017|  en|     us|         Samsung|        samsung.com|  9.2|         Buster2020 |Samsung Galaxy S8...|\n",
            "|/cellphones/samsu...|5/11/2017|  en|     us|Verizon Wireless|verizonwireless.com|    4|          S Ate Mine|   Samsung Galaxy S8|\n",
            "|/cellphones/samsu...|5/10/2017|  en|     us|Verizon Wireless|verizonwireless.com|   10|               BDB76|   Samsung Galaxy S8|\n",
            "|/cellphones/samsu...|5/10/2017|  en|     us|Verizon Wireless|verizonwireless.com|    4|            KLC30306|   Samsung Galaxy S8|\n",
            "|/cellphones/samsu...|5/10/2017|  en|     us|Verizon Wireless|verizonwireless.com|    6|                Mnhy|   Samsung Galaxy S8|\n",
            "|/cellphones/samsu...|5/10/2017|  en|     us|Verizon Wireless|verizonwireless.com|    6|             Mr Alan|   Samsung Galaxy S8|\n",
            "|/cellphones/samsu...|5/10/2017|  en|     us|Verizon Wireless|verizonwireless.com|    8| it just looks bi...| takes amazing pi...|\n",
            "|/cellphones/samsu...| 5/8/2017|  en|     gb|            Very|         very.co.uk|   10|           Settoloki|Samsung Galaxy S8...|\n",
            "|/cellphones/samsu...| 5/8/2017|  en|     gb|            Very|         very.co.uk|   10|              Karren|Samsung Galaxy S8...|\n",
            "|/cellphones/samsu...| 5/8/2017|  en|     us|Verizon Wireless|verizonwireless.com|   10|            zenkitty|   Samsung Galaxy S8|\n",
            "|/cellphones/samsu...| 5/8/2017|  en|     us|Verizon Wireless|verizonwireless.com|    6|       AT and T wins|   Samsung Galaxy S8|\n",
            "|/cellphones/samsu...| 5/8/2017|  en|     us|Verizon Wireless|verizonwireless.com|   10|              Dwakal|   Samsung Galaxy S8|\n",
            "|/cellphones/samsu...| 5/8/2017|  en|     us|            CNET|   reviews.cnet.com|   10|             fflinty|Samsung Galaxy S8...|\n",
            "|/cellphones/samsu...| 5/7/2017|  en|     us|   Wireless AT&T|            att.com|    8|           Desiree42|   Samsung Galaxy S8|\n",
            "|/cellphones/samsu...| 5/7/2017|  en|     us|   Wireless AT&T|            att.com|   10|           SassyRose|   Samsung Galaxy S8|\n",
            "|/cellphones/samsu...| 5/7/2017|  en|     us|   Wireless AT&T|            att.com|   10|              Robhig|   Samsung Galaxy S8|\n",
            "|/cellphones/samsu...| 5/7/2017|  en|     us|   Wireless AT&T|            att.com|    8|              JPinCJ|   Samsung Galaxy S8|\n",
            "+--------------------+---------+----+-------+----------------+-------------------+-----+--------------------+--------------------+\n",
            "only showing top 20 rows\n",
            "\n",
            "(1350873, 9)\n"
          ]
        }
      ]
    },
    {
      "cell_type": "code",
      "source": [
        "# Create the Great Expectations DataFrame\n",
        "!pip install great_expectations\n",
        "import great_expectations as ge\n",
        "phones_df_ge = ge.dataset.SparkDFDataset(phones_df)"
      ],
      "metadata": {
        "id": "tAA8ga_9AFBd",
        "colab": {
          "base_uri": "https://localhost:8080/"
        },
        "outputId": "c49070b6-8f0a-4a89-a0e1-422591c95034"
      },
      "execution_count": null,
      "outputs": [
        {
          "output_type": "stream",
          "name": "stdout",
          "text": [
            "Looking in indexes: https://pypi.org/simple, https://us-python.pkg.dev/colab-wheels/public/simple/\n",
            "Requirement already satisfied: great_expectations in /usr/local/lib/python3.7/dist-packages (0.15.26)\n",
            "Requirement already satisfied: marshmallow<4.0.0,>=3.7.1 in /usr/local/lib/python3.7/dist-packages (from great_expectations) (3.17.1)\n",
            "Requirement already satisfied: jinja2>=2.10 in /usr/local/lib/python3.7/dist-packages (from great_expectations) (2.11.3)\n",
            "Requirement already satisfied: termcolor>=1.1.0 in /usr/local/lib/python3.7/dist-packages (from great_expectations) (1.1.0)\n",
            "Requirement already satisfied: cryptography>=3.2 in /usr/local/lib/python3.7/dist-packages (from great_expectations) (38.0.1)\n",
            "Requirement already satisfied: urllib3<1.27,>=1.25.4 in /usr/local/lib/python3.7/dist-packages (from great_expectations) (1.25.11)\n",
            "Requirement already satisfied: tzlocal>=1.2 in /usr/local/lib/python3.7/dist-packages (from great_expectations) (1.5.1)\n",
            "Requirement already satisfied: jsonschema>=2.5.1 in /usr/local/lib/python3.7/dist-packages (from great_expectations) (4.3.3)\n",
            "Requirement already satisfied: Ipython>=7.16.3 in /usr/local/lib/python3.7/dist-packages (from great_expectations) (7.34.0)\n",
            "Requirement already satisfied: scipy>=0.19.0 in /usr/local/lib/python3.7/dist-packages (from great_expectations) (1.7.3)\n",
            "Requirement already satisfied: requests>=2.20 in /usr/local/lib/python3.7/dist-packages (from great_expectations) (2.23.0)\n",
            "Requirement already satisfied: altair<5,>=4.0.0 in /usr/local/lib/python3.7/dist-packages (from great_expectations) (4.2.0)\n",
            "Requirement already satisfied: tqdm>=4.59.0 in /usr/local/lib/python3.7/dist-packages (from great_expectations) (4.64.1)\n",
            "Requirement already satisfied: typing-extensions>=3.10.0.0 in /usr/local/lib/python3.7/dist-packages (from great_expectations) (4.1.1)\n",
            "Requirement already satisfied: ruamel.yaml<0.17.18,>=0.16 in /usr/local/lib/python3.7/dist-packages (from great_expectations) (0.17.17)\n",
            "Requirement already satisfied: numpy>=1.18.5 in /usr/local/lib/python3.7/dist-packages (from great_expectations) (1.21.6)\n",
            "Requirement already satisfied: nbformat>=5.0 in /usr/local/lib/python3.7/dist-packages (from great_expectations) (5.4.0)\n",
            "Requirement already satisfied: packaging in /usr/local/lib/python3.7/dist-packages (from great_expectations) (21.3)\n",
            "Requirement already satisfied: makefun<2,>=1.7.0 in /usr/local/lib/python3.7/dist-packages (from great_expectations) (1.15.0)\n",
            "Requirement already satisfied: pandas>=1.1.0 in /usr/local/lib/python3.7/dist-packages (from great_expectations) (1.3.5)\n",
            "Requirement already satisfied: mistune>=0.8.4 in /usr/local/lib/python3.7/dist-packages (from great_expectations) (0.8.4)\n",
            "Requirement already satisfied: colorama>=0.4.3 in /usr/local/lib/python3.7/dist-packages (from great_expectations) (0.4.5)\n",
            "Requirement already satisfied: notebook>=6.4.10 in /usr/local/lib/python3.7/dist-packages (from great_expectations) (6.4.12)\n",
            "Requirement already satisfied: importlib-metadata>=1.7.0 in /usr/local/lib/python3.7/dist-packages (from great_expectations) (4.12.0)\n",
            "Requirement already satisfied: pyparsing>=2.4 in /usr/local/lib/python3.7/dist-packages (from great_expectations) (3.0.9)\n",
            "Requirement already satisfied: Click>=7.1.2 in /usr/local/lib/python3.7/dist-packages (from great_expectations) (7.1.2)\n",
            "Requirement already satisfied: jsonpatch>=1.22 in /usr/local/lib/python3.7/dist-packages (from great_expectations) (1.32)\n",
            "Requirement already satisfied: python-dateutil>=2.8.1 in /usr/local/lib/python3.7/dist-packages (from great_expectations) (2.8.2)\n",
            "Requirement already satisfied: pytz>=2021.3 in /usr/local/lib/python3.7/dist-packages (from great_expectations) (2022.2.1)\n",
            "Requirement already satisfied: ipywidgets>=7.5.1 in /usr/local/lib/python3.7/dist-packages (from great_expectations) (7.7.1)\n",
            "Requirement already satisfied: toolz in /usr/local/lib/python3.7/dist-packages (from altair<5,>=4.0.0->great_expectations) (0.12.0)\n",
            "Requirement already satisfied: entrypoints in /usr/local/lib/python3.7/dist-packages (from altair<5,>=4.0.0->great_expectations) (0.4)\n",
            "Requirement already satisfied: cffi>=1.12 in /usr/local/lib/python3.7/dist-packages (from cryptography>=3.2->great_expectations) (1.15.1)\n",
            "Requirement already satisfied: pycparser in /usr/local/lib/python3.7/dist-packages (from cffi>=1.12->cryptography>=3.2->great_expectations) (2.21)\n",
            "Requirement already satisfied: zipp>=0.5 in /usr/local/lib/python3.7/dist-packages (from importlib-metadata>=1.7.0->great_expectations) (3.8.1)\n",
            "Requirement already satisfied: setuptools>=18.5 in /usr/local/lib/python3.7/dist-packages (from Ipython>=7.16.3->great_expectations) (57.4.0)\n",
            "Requirement already satisfied: pickleshare in /usr/local/lib/python3.7/dist-packages (from Ipython>=7.16.3->great_expectations) (0.7.5)\n",
            "Requirement already satisfied: backcall in /usr/local/lib/python3.7/dist-packages (from Ipython>=7.16.3->great_expectations) (0.2.0)\n",
            "Requirement already satisfied: decorator in /usr/local/lib/python3.7/dist-packages (from Ipython>=7.16.3->great_expectations) (4.4.2)\n",
            "Requirement already satisfied: matplotlib-inline in /usr/local/lib/python3.7/dist-packages (from Ipython>=7.16.3->great_expectations) (0.1.6)\n",
            "Requirement already satisfied: jedi>=0.16 in /usr/local/lib/python3.7/dist-packages (from Ipython>=7.16.3->great_expectations) (0.18.1)\n",
            "Requirement already satisfied: traitlets>=4.2 in /usr/local/lib/python3.7/dist-packages (from Ipython>=7.16.3->great_expectations) (5.1.1)\n",
            "Requirement already satisfied: prompt-toolkit!=3.0.0,!=3.0.1,<3.1.0,>=2.0.0 in /usr/local/lib/python3.7/dist-packages (from Ipython>=7.16.3->great_expectations) (2.0.10)\n",
            "Requirement already satisfied: pygments in /usr/local/lib/python3.7/dist-packages (from Ipython>=7.16.3->great_expectations) (2.6.1)\n",
            "Requirement already satisfied: pexpect>4.3 in /usr/local/lib/python3.7/dist-packages (from Ipython>=7.16.3->great_expectations) (4.8.0)\n",
            "Requirement already satisfied: widgetsnbextension~=3.6.0 in /usr/local/lib/python3.7/dist-packages (from ipywidgets>=7.5.1->great_expectations) (3.6.1)\n",
            "Requirement already satisfied: ipykernel>=4.5.1 in /usr/local/lib/python3.7/dist-packages (from ipywidgets>=7.5.1->great_expectations) (5.3.4)\n",
            "Requirement already satisfied: jupyterlab-widgets>=1.0.0 in /usr/local/lib/python3.7/dist-packages (from ipywidgets>=7.5.1->great_expectations) (3.0.3)\n",
            "Requirement already satisfied: ipython-genutils~=0.2.0 in /usr/local/lib/python3.7/dist-packages (from ipywidgets>=7.5.1->great_expectations) (0.2.0)\n",
            "Requirement already satisfied: jupyter-client in /usr/local/lib/python3.7/dist-packages (from ipykernel>=4.5.1->ipywidgets>=7.5.1->great_expectations) (6.1.12)\n",
            "Requirement already satisfied: tornado>=4.2 in /usr/local/lib/python3.7/dist-packages (from ipykernel>=4.5.1->ipywidgets>=7.5.1->great_expectations) (6.2)\n",
            "Requirement already satisfied: parso<0.9.0,>=0.8.0 in /usr/local/lib/python3.7/dist-packages (from jedi>=0.16->Ipython>=7.16.3->great_expectations) (0.8.3)\n",
            "Requirement already satisfied: MarkupSafe>=0.23 in /usr/local/lib/python3.7/dist-packages (from jinja2>=2.10->great_expectations) (2.0.1)\n",
            "Requirement already satisfied: jsonpointer>=1.9 in /usr/local/lib/python3.7/dist-packages (from jsonpatch>=1.22->great_expectations) (2.3)\n",
            "Requirement already satisfied: attrs>=17.4.0 in /usr/local/lib/python3.7/dist-packages (from jsonschema>=2.5.1->great_expectations) (22.1.0)\n",
            "Requirement already satisfied: importlib-resources>=1.4.0 in /usr/local/lib/python3.7/dist-packages (from jsonschema>=2.5.1->great_expectations) (5.9.0)\n",
            "Requirement already satisfied: pyrsistent!=0.17.0,!=0.17.1,!=0.17.2,>=0.14.0 in /usr/local/lib/python3.7/dist-packages (from jsonschema>=2.5.1->great_expectations) (0.18.1)\n",
            "Requirement already satisfied: fastjsonschema in /usr/local/lib/python3.7/dist-packages (from nbformat>=5.0->great_expectations) (2.16.1)\n",
            "Requirement already satisfied: jupyter-core in /usr/local/lib/python3.7/dist-packages (from nbformat>=5.0->great_expectations) (4.11.1)\n",
            "Requirement already satisfied: argon2-cffi in /usr/local/lib/python3.7/dist-packages (from notebook>=6.4.10->great_expectations) (21.3.0)\n",
            "Requirement already satisfied: prometheus-client in /usr/local/lib/python3.7/dist-packages (from notebook>=6.4.10->great_expectations) (0.14.1)\n",
            "Requirement already satisfied: terminado>=0.8.3 in /usr/local/lib/python3.7/dist-packages (from notebook>=6.4.10->great_expectations) (0.13.3)\n",
            "Requirement already satisfied: Send2Trash>=1.8.0 in /usr/local/lib/python3.7/dist-packages (from notebook>=6.4.10->great_expectations) (1.8.0)\n",
            "Requirement already satisfied: nest-asyncio>=1.5 in /usr/local/lib/python3.7/dist-packages (from notebook>=6.4.10->great_expectations) (1.5.6)\n",
            "Requirement already satisfied: nbconvert>=5 in /usr/local/lib/python3.7/dist-packages (from notebook>=6.4.10->great_expectations) (5.6.1)\n",
            "Requirement already satisfied: pyzmq>=17 in /usr/local/lib/python3.7/dist-packages (from notebook>=6.4.10->great_expectations) (23.2.1)\n",
            "Requirement already satisfied: testpath in /usr/local/lib/python3.7/dist-packages (from nbconvert>=5->notebook>=6.4.10->great_expectations) (0.6.0)\n",
            "Requirement already satisfied: defusedxml in /usr/local/lib/python3.7/dist-packages (from nbconvert>=5->notebook>=6.4.10->great_expectations) (0.7.1)\n",
            "Requirement already satisfied: bleach in /usr/local/lib/python3.7/dist-packages (from nbconvert>=5->notebook>=6.4.10->great_expectations) (5.0.1)\n",
            "Requirement already satisfied: pandocfilters>=1.4.1 in /usr/local/lib/python3.7/dist-packages (from nbconvert>=5->notebook>=6.4.10->great_expectations) (1.5.0)\n",
            "Requirement already satisfied: ptyprocess>=0.5 in /usr/local/lib/python3.7/dist-packages (from pexpect>4.3->Ipython>=7.16.3->great_expectations) (0.7.0)\n",
            "Requirement already satisfied: six>=1.9.0 in /usr/local/lib/python3.7/dist-packages (from prompt-toolkit!=3.0.0,!=3.0.1,<3.1.0,>=2.0.0->Ipython>=7.16.3->great_expectations) (1.15.0)\n",
            "Requirement already satisfied: wcwidth in /usr/local/lib/python3.7/dist-packages (from prompt-toolkit!=3.0.0,!=3.0.1,<3.1.0,>=2.0.0->Ipython>=7.16.3->great_expectations) (0.2.5)\n",
            "Requirement already satisfied: certifi>=2017.4.17 in /usr/local/lib/python3.7/dist-packages (from requests>=2.20->great_expectations) (2022.6.15)\n",
            "Requirement already satisfied: chardet<4,>=3.0.2 in /usr/local/lib/python3.7/dist-packages (from requests>=2.20->great_expectations) (3.0.4)\n",
            "Requirement already satisfied: idna<3,>=2.5 in /usr/local/lib/python3.7/dist-packages (from requests>=2.20->great_expectations) (2.10)\n",
            "Requirement already satisfied: ruamel.yaml.clib>=0.1.2 in /usr/local/lib/python3.7/dist-packages (from ruamel.yaml<0.17.18,>=0.16->great_expectations) (0.2.6)\n",
            "Requirement already satisfied: argon2-cffi-bindings in /usr/local/lib/python3.7/dist-packages (from argon2-cffi->notebook>=6.4.10->great_expectations) (21.2.0)\n",
            "Requirement already satisfied: webencodings in /usr/local/lib/python3.7/dist-packages (from bleach->nbconvert>=5->notebook>=6.4.10->great_expectations) (0.5.1)\n"
          ]
        }
      ]
    },
    {
      "cell_type": "code",
      "source": [
        "# Test that each column doesn't contain null values.\n",
        "for column in ['phone_url', 'date', 'lang', 'country', 'source','domain','score','author','product']:\n",
        "  print(phones_df_ge.expect_column_values_to_not_be_null(column=column)['success'])"
      ],
      "metadata": {
        "id": "yT9ksvoEAOnx",
        "colab": {
          "base_uri": "https://localhost:8080/"
        },
        "outputId": "7b47777a-9ef8-4f25-edff-c7f050598b3c"
      },
      "execution_count": null,
      "outputs": [
        {
          "output_type": "stream",
          "name": "stdout",
          "text": [
            "True\n",
            "True\n",
            "True\n",
            "True\n",
            "True\n",
            "True\n",
            "True\n",
            "True\n",
            "True\n"
          ]
        }
      ]
    },
    {
      "cell_type": "code",
      "source": [
        "#querying on original dataframe to check time\n",
        "phones_df.createOrReplaceTempView('phone')\n",
        "\n",
        "start_time = time.time()\n",
        "sql = (\"\"\"\n",
        "select country,source,product, COUNT(source) as People\n",
        "from phone\n",
        "group by country,source,product\n",
        "order by people desc\n",
        "\"\"\")\n",
        "spark.sql(sql).show()\n",
        "print(\"--- %s seconds ---\" % (time.time() - start_time))"
      ],
      "metadata": {
        "colab": {
          "base_uri": "https://localhost:8080/"
        },
        "id": "Hv9cOC9Y0brd",
        "outputId": "89ba9586-5df8-437c-f972-3904401a1190"
      },
      "execution_count": null,
      "outputs": [
        {
          "output_type": "stream",
          "name": "stdout",
          "text": [
            "+-------+----------+--------------------+------+\n",
            "|country|    source|             product|People|\n",
            "+-------+----------+--------------------+------+\n",
            "|     in|    Amazon|Lenovo Vibe K4 No...|  5222|\n",
            "|     in|    Amazon|Lenovo Vibe K4 No...|  4388|\n",
            "|     in|    Amazon|OnePlus 3 (Graphi...|  4094|\n",
            "|     in|    Amazon|OnePlus 3 (Soft G...|  3549|\n",
            "|     in|    Amazon|Lenovo Vibe K5 (G...|  2530|\n",
            "|     in|    Amazon|Lenovo Vibe K5 (G...|  2104|\n",
            "|     in|    Amazon|Lenovo Used Lenov...|  1950|\n",
            "|     in|    Amazon|OnePlus 3T (Gunme...|  1878|\n",
            "|     in|  Snapdeal|Samsung Galaxy J3...|  1844|\n",
            "|     us|   Samsung|Samsung Galaxy S7...|  1806|\n",
            "|     it|    Amazon|\"Huawei P8 Lite S...|  1729|\n",
            "|     us|   Samsung|Samsung Galaxy S7...|  1724|\n",
            "|     it|    Amazon|Huawei P9 Lite Sm...|  1689|\n",
            "|     us|   Samsung|Samsung Galaxy S7...|  1602|\n",
            "|     in|    Amazon|Apple iPhone 5s (...|  1601|\n",
            "|     in|    Amazon|YU Yuphoria YU501...|  1587|\n",
            "|     de|   Otto.de|Samsung Galaxy S7...|  1566|\n",
            "|     be|KIESKEURIG|Samsung Galaxy S6...|  1539|\n",
            "|     us|   Samsung|Samsung Galaxy S7...|  1527|\n",
            "|     it|    Amazon|Lenovo Motorola M...|  1475|\n",
            "+-------+----------+--------------------+------+\n",
            "only showing top 20 rows\n",
            "\n",
            "--- 3.0390801429748535 seconds ---\n"
          ]
        }
      ]
    },
    {
      "cell_type": "code",
      "execution_count": null,
      "metadata": {
        "id": "m45RghMJ1xkR"
      },
      "outputs": [],
      "source": [
        "# Write out the data in parquet format\n",
        "phones_df.write.parquet('parquet_phone',mode='overwrite')\n",
        "\n",
        "# Read in our new parquet formatted data\n",
        "p_df=spark.read.parquet('parquet_phone')\n",
        "\n",
        "# We can convert the dataframe to a view.\n",
        "p_df.createOrReplaceTempView('p_phone')"
      ]
    },
    {
      "cell_type": "code",
      "source": [
        "from pyspark.sql.functions import *\n",
        "\n",
        "#Rerun same query to check runtime in parquet format\n",
        "start_time = time.time()\n",
        "sql = (\"\"\"\n",
        "select country,source,product, COUNT(source) as People\n",
        "from p_phone\n",
        "group by country,source,product\n",
        "order by people desc\n",
        "\"\"\")\n",
        "spark.sql(sql).show()\n",
        "print(\"--- %s seconds ---\" % (time.time() - start_time))"
      ],
      "metadata": {
        "id": "YZ60A2dT2Q39",
        "colab": {
          "base_uri": "https://localhost:8080/"
        },
        "outputId": "9aa604ca-5ec8-4ef1-fcfb-2190e8e3c15d"
      },
      "execution_count": null,
      "outputs": [
        {
          "output_type": "stream",
          "name": "stdout",
          "text": [
            "+-------+----------+--------------------+------+\n",
            "|country|    source|             product|People|\n",
            "+-------+----------+--------------------+------+\n",
            "|     in|    Amazon|Lenovo Vibe K4 No...|  5222|\n",
            "|     in|    Amazon|Lenovo Vibe K4 No...|  4388|\n",
            "|     in|    Amazon|OnePlus 3 (Graphi...|  4094|\n",
            "|     in|    Amazon|OnePlus 3 (Soft G...|  3549|\n",
            "|     in|    Amazon|Lenovo Vibe K5 (G...|  2530|\n",
            "|     in|    Amazon|Lenovo Vibe K5 (G...|  2104|\n",
            "|     in|    Amazon|Lenovo Used Lenov...|  1950|\n",
            "|     in|    Amazon|OnePlus 3T (Gunme...|  1878|\n",
            "|     in|  Snapdeal|Samsung Galaxy J3...|  1844|\n",
            "|     us|   Samsung|Samsung Galaxy S7...|  1806|\n",
            "|     it|    Amazon|\"Huawei P8 Lite S...|  1729|\n",
            "|     us|   Samsung|Samsung Galaxy S7...|  1724|\n",
            "|     it|    Amazon|Huawei P9 Lite Sm...|  1689|\n",
            "|     us|   Samsung|Samsung Galaxy S7...|  1602|\n",
            "|     in|    Amazon|Apple iPhone 5s (...|  1601|\n",
            "|     in|    Amazon|YU Yuphoria YU501...|  1587|\n",
            "|     de|   Otto.de|Samsung Galaxy S7...|  1566|\n",
            "|     be|KIESKEURIG|Samsung Galaxy S6...|  1539|\n",
            "|     us|   Samsung|Samsung Galaxy S7...|  1527|\n",
            "|     it|    Amazon|Lenovo Motorola M...|  1475|\n",
            "+-------+----------+--------------------+------+\n",
            "only showing top 20 rows\n",
            "\n",
            "--- 1.636444091796875 seconds ---\n"
          ]
        }
      ]
    },
    {
      "cell_type": "code",
      "source": [
        "# Four successful assertions that test for quality assurance during the data extraction or transformation process.\n",
        "\n",
        "# Install pytest and pytest-sugar to make our output look nice.\n",
        "!pip install -q pytest pytest-sugar\n"
      ],
      "metadata": {
        "id": "p7uMLNpb2RBW"
      },
      "execution_count": 24,
      "outputs": []
    },
    {
      "cell_type": "code",
      "source": [
        "# Create a phones_data.py file and write the function to it. \n",
        "# This file will be stored in our pwd (/content/tests).\n",
        "%%file phones_data.py\n",
        "\n",
        "# Import findspark() and initialize. \n",
        "import findspark\n",
        "findspark.init()\n",
        "\n",
        "# Import other dependencies. \n",
        "from pyspark import SparkFiles\n",
        "from pyspark.sql import SparkSession\n",
        "spark = SparkSession.builder.appName(\"sparkBankData\").getOrCreate()\n",
        "\n",
        "# Create the import_data function. \n",
        "def clean_data():\n",
        "  phones_df = spark.read.csv(SparkFiles.get('/content/combined-csv-files.csv'),sep=\",\", header=True, encoding='ISO-8859-1')\n",
        "  phones_df = phones_df.drop(\"extract\", \"score_max\") # dropping the colomns that we dont need\n",
        "  phones_df = phones_df.na.fill(\"anonymous\",[\"author\"]) # Filling null in author with anonymous\n",
        "  phones_df = phones_df.dropna(how = 'any') # Drop any null row\n",
        "  phones_df = phones_df.where(phones_df.score != 'score') # filter out the word score\n",
        "  return phones_df\n",
        "\n",
        "def old_data():\n",
        "  df = spark.read.csv(SparkFiles.get('/content/combined-csv-files.csv'),sep=\",\", header=True, encoding='ISO-8859-1')\n",
        "  return df"
      ],
      "metadata": {
        "colab": {
          "base_uri": "https://localhost:8080/"
        },
        "id": "F1dvdOOM7i7z",
        "outputId": "b423cfbb-5434-498a-8515-0545f5a66f5d"
      },
      "execution_count": 25,
      "outputs": [
        {
          "output_type": "stream",
          "name": "stdout",
          "text": [
            "Writing phones_data.py\n"
          ]
        }
      ]
    },
    {
      "cell_type": "code",
      "source": [
        "# Create a test_phones_data.py file and write the test functions to it. \n",
        "# This file will be stored in our pwd (/content/tests).\n",
        "# Start a SparkSession\n",
        "\n",
        "%%file test_phones_data.py\n",
        "\n",
        "# From the phones_data.py file and import the import_data function. \n",
        "from phones_data import clean_data\n",
        "from phones_data import old_data\n",
        "\n",
        "# Write the tests. \n",
        "def test_column_count():\n",
        "  df = clean_data()\n",
        "  assert len(df.columns) == 9\n",
        "\n",
        "def test_columns_df():\n",
        "  df = clean_data()\n",
        "  assert df.schema.names == ['phone_url','date','lang','country','source','domain','score','author','product']\n",
        "\n",
        "def test_rows_dropped():\n",
        "  df = clean_data()\n",
        "  old_df = old_data()\n",
        "  assert len(df.columns) != len(old_df.columns)\n",
        "\n",
        "def test_check_score_greater_than_zero():\n",
        "  df = clean_data()\n",
        "  values = df.select(\"score\").distinct().collect()\n",
        "  for value in values:\n",
        "    assert not float(value.score) < 0\n"
      ],
      "metadata": {
        "colab": {
          "base_uri": "https://localhost:8080/"
        },
        "id": "bqLfBA3BNfpa",
        "outputId": "1f9440dd-9d9f-49d5-add1-ec054167c38f"
      },
      "execution_count": 41,
      "outputs": [
        {
          "output_type": "stream",
          "name": "stdout",
          "text": [
            "Overwriting test_phones_data.py\n"
          ]
        }
      ]
    },
    {
      "cell_type": "code",
      "source": [
        "# Run the test_import_data.py file with pytest. \n",
        "!python -m pytest test_phones_data.py"
      ],
      "metadata": {
        "id": "56FnYM9gNq32",
        "colab": {
          "base_uri": "https://localhost:8080/"
        },
        "outputId": "4cdb3ee0-d1a0-44b0-e22f-6f379ab1d12b"
      },
      "execution_count": 42,
      "outputs": [
        {
          "output_type": "stream",
          "name": "stdout",
          "text": [
            "\u001b[1mTest session starts (platform: linux, Python 3.7.14, pytest 3.6.4, pytest-sugar 0.9.5)\u001b[0m\n",
            "rootdir: /content, inifile:\n",
            "plugins: typeguard-2.7.1, sugar-0.9.5\n",
            "\n",
            " \u001b[36m\u001b[0mtest_phones_data.py\u001b[0m \u001b[32m✓\u001b[0m\u001b[32m✓\u001b[0m\u001b[32m✓\u001b[0m\u001b[32m✓\u001b[0m                                        \u001b[32m100% \u001b[0m\u001b[40m\u001b[32m█\u001b[0m\u001b[40m\u001b[32m█\u001b[0m\u001b[40m\u001b[32m█\u001b[0m\u001b[40m\u001b[32m██\u001b[0m\u001b[40m\u001b[32m█\u001b[0m\u001b[40m\u001b[32m█\u001b[0m\u001b[40m\u001b[32m█\u001b[0m\u001b[40m\u001b[32m██\u001b[0m\n",
            "\n",
            "Results (28.05s):\n",
            "\u001b[32m       4 passed\u001b[0m\n"
          ]
        }
      ]
    },
    {
      "cell_type": "code",
      "source": [],
      "metadata": {
        "id": "Z6_URnPO2-db"
      },
      "execution_count": null,
      "outputs": []
    }
  ]
}